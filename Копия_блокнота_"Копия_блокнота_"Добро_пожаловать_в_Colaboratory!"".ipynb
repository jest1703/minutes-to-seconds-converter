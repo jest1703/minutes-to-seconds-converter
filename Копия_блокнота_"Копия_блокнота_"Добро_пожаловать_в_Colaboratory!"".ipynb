{
  "cells": [
    {
      "cell_type": "markdown",
      "metadata": {
        "id": "view-in-github",
        "colab_type": "text"
      },
      "source": [
        "<a href=\"https://colab.research.google.com/github/jest1703/minutes-to-seconds-converter/blob/main/%D0%9A%D0%BE%D0%BF%D0%B8%D1%8F_%D0%B1%D0%BB%D0%BE%D0%BA%D0%BD%D0%BE%D1%82%D0%B0_%22%D0%9A%D0%BE%D0%BF%D0%B8%D1%8F_%D0%B1%D0%BB%D0%BE%D0%BA%D0%BD%D0%BE%D1%82%D0%B0_%22%D0%94%D0%BE%D0%B1%D1%80%D0%BE_%D0%BF%D0%BE%D0%B6%D0%B0%D0%BB%D0%BE%D0%B2%D0%B0%D1%82%D1%8C_%D0%B2_Colaboratory!%22%22.ipynb\" target=\"_parent\"><img src=\"https://colab.research.google.com/assets/colab-badge.svg\" alt=\"Open In Colab\"/></a>"
      ]
    },
    {
      "cell_type": "code",
      "source": [
        "#перевод часов в секунды\n",
        "hours = input('введите количество часов')\n",
        "print('В секундах это: ' + str(int(hours)*3600))"
      ],
      "metadata": {
        "colab": {
          "base_uri": "https://localhost:8080/"
        },
        "id": "q405hZ6hJXeP",
        "outputId": "37c38468-de32-4d1a-f320-8420ee1f6c95"
      },
      "execution_count": null,
      "outputs": [
        {
          "output_type": "stream",
          "name": "stdout",
          "text": [
            "введите количество часов12\n",
            "В секундах это: 43200\n"
          ]
        }
      ]
    },
    {
      "cell_type": "markdown",
      "source": [],
      "metadata": {
        "id": "ZG04ZqBML_0a"
      }
    },
    {
      "cell_type": "code",
      "source": [
        "#возвращает инициалы\n",
        "last_name = input(\"enter your last name \")\n",
        "first_name = input(\"enter your first name \")\n",
        "surname = input(\"enter your surname \")\n",
        "print(last_name + ' ' + first_name[0] + \".\" + surname[0] + \".\")"
      ],
      "metadata": {
        "id": "OvGhHWc7LIvF",
        "outputId": "695b1a0a-7b98-4bc7-f6f1-56aa1b58f69b",
        "colab": {
          "base_uri": "https://localhost:8080/"
        }
      },
      "execution_count": null,
      "outputs": [
        {
          "output_type": "stream",
          "name": "stdout",
          "text": [
            "enter your last name Проценко\n",
            "enter your first name Злата\n",
            "enter your surname Дмитриевна\n",
            "Проценко З.Д.\n"
          ]
        }
      ]
    },
    {
      "cell_type": "code",
      "source": [
        "#Выбор места\n",
        "seats = [\n",
        "['a', 'b', 'c'],\n",
        "['d', 'e', 'f'],\n",
        "['g', 'h', 'i'],\n",
        "['j', 'k', 'l']\n",
        "]\n",
        "x = int(input(\"choose your row\"))\n",
        "y = int(input(\"choose your seat\"))\n",
        "print (seats[x][y])\n"
      ],
      "metadata": {
        "id": "wu9L0B_mM0_A",
        "outputId": "9c32fab6-a55e-4e59-9883-d37e11ebcdaf",
        "colab": {
          "base_uri": "https://localhost:8080/"
        }
      },
      "execution_count": null,
      "outputs": [
        {
          "output_type": "stream",
          "name": "stdout",
          "text": [
            "2\n",
            "0\n",
            "g\n"
          ]
        }
      ]
    },
    {
      "cell_type": "code",
      "source": [
        "#калькулятор чаевых\n",
        "bill = int(input())\n",
        "tea_money = bill * 0.2\n",
        "print(tea_money)"
      ],
      "metadata": {
        "id": "f4WhdlUlQxiE",
        "outputId": "1e515e64-5fdf-452a-8a8b-6f0818f05fca",
        "colab": {
          "base_uri": "https://localhost:8080/"
        }
      },
      "execution_count": null,
      "outputs": [
        {
          "output_type": "stream",
          "name": "stdout",
          "text": [
            "12000\n",
            "2400.0\n"
          ]
        }
      ]
    },
    {
      "cell_type": "code",
      "source": [
        "#считает сколько букв 'a'(eng.)\n",
        "text = input('enter your text ')\n",
        "count = 0 \n",
        "\n",
        "for x in text:\n",
        "  if (x==\"a\"):\n",
        "    count+=1\n",
        "\n",
        "print(count)"
      ],
      "metadata": {
        "id": "td20F0YdS7QZ",
        "outputId": "59071b78-b9c7-4cff-e6dd-08b6ff277c8f",
        "colab": {
          "base_uri": "https://localhost:8080/"
        }
      },
      "execution_count": null,
      "outputs": [
        {
          "output_type": "stream",
          "name": "stdout",
          "text": [
            "enter your text werew3saswgdfgdg\n",
            "1\n"
          ]
        }
      ]
    },
    {
      "cell_type": "code",
      "source": [
        "#считает размер скидки в корзине\n",
        "cart = [367, 1246, 5332, 432, 2354, 234]\n",
        "discount = int(input(\"discount size \"))\n",
        "total = 0 \n",
        "for c in cart:\n",
        "  total = total + (c - c*discount/100)\n",
        "\n",
        "print(total)"
      ],
      "metadata": {
        "id": "3NRuBXdPWJ0Q",
        "outputId": "1a518dae-23b9-4548-c4c7-8a7f2dc0409f",
        "colab": {
          "base_uri": "https://localhost:8080/"
        }
      },
      "execution_count": null,
      "outputs": [
        {
          "output_type": "stream",
          "name": "stdout",
          "text": [
            "discount size 55\n",
            "4484.25\n"
          ]
        }
      ]
    },
    {
      "cell_type": "code",
      "source": [
        "#уборные на этажах стройки\n",
        "n = int(input(\"enter the number of stages \"))\n",
        "nums = list(range(5,n,5))\n",
        "for x in nums:\n",
        "  print(x)"
      ],
      "metadata": {
        "colab": {
          "base_uri": "https://localhost:8080/"
        },
        "id": "29MJttM0dM7Q",
        "outputId": "9526376a-f795-4db0-fa9c-8ca9aa72292b"
      },
      "execution_count": null,
      "outputs": [
        {
          "output_type": "stream",
          "name": "stdout",
          "text": [
            "enter the number of stages 10\n",
            "5\n"
          ]
        }
      ]
    },
    {
      "cell_type": "code",
      "source": [],
      "metadata": {
        "id": "vp9iE614d1uU"
      },
      "execution_count": null,
      "outputs": []
    }
  ],
  "metadata": {
    "colab": {
      "toc_visible": true,
      "provenance": [],
      "include_colab_link": true
    },
    "kernelspec": {
      "display_name": "Python 3",
      "name": "python3"
    }
  },
  "nbformat": 4,
  "nbformat_minor": 0
}